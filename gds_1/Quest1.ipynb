{
 "cells": [
  {
   "cell_type": "markdown",
   "id": "b7dc8ae9",
   "metadata": {},
   "source": [
    "### Import relevant libraries"
   ]
  },
  {
   "cell_type": "markdown",
   "id": "9076c981",
   "metadata": {},
   "source": [
    "_Uncomment and run the following cells to import the libraries:_"
   ]
  },
  {
   "cell_type": "code",
   "execution_count": null,
   "id": "20aa7838",
   "metadata": {},
   "outputs": [],
   "source": [
    "#import pandas as pd"
   ]
  },
  {
   "cell_type": "code",
   "execution_count": null,
   "id": "af638a74",
   "metadata": {},
   "outputs": [],
   "source": [
    "#import geopandas as gpd"
   ]
  },
  {
   "cell_type": "code",
   "execution_count": null,
   "id": "1b649f69",
   "metadata": {},
   "outputs": [],
   "source": [
    "#import pysal as ps"
   ]
  },
  {
   "cell_type": "code",
   "execution_count": null,
   "id": "ea45243c",
   "metadata": {},
   "outputs": [],
   "source": [
    "#import libpysal"
   ]
  },
  {
   "cell_type": "code",
   "execution_count": null,
   "id": "b96262d6",
   "metadata": {},
   "outputs": [],
   "source": [
    "#import pyproj"
   ]
  },
  {
   "cell_type": "code",
   "execution_count": null,
   "id": "89da726d",
   "metadata": {},
   "outputs": [],
   "source": [
    "#import geopy"
   ]
  },
  {
   "cell_type": "code",
   "execution_count": null,
   "id": "18dadc1f",
   "metadata": {},
   "outputs": [],
   "source": [
    "#import cartopy as cp"
   ]
  },
  {
   "cell_type": "code",
   "execution_count": null,
   "id": "fe27625b",
   "metadata": {},
   "outputs": [],
   "source": [
    "#import geojson"
   ]
  },
  {
   "cell_type": "code",
   "execution_count": null,
   "id": "92c714b4",
   "metadata": {},
   "outputs": [],
   "source": [
    "#import osmnx as ox"
   ]
  },
  {
   "cell_type": "code",
   "execution_count": null,
   "id": "f4921b2e",
   "metadata": {},
   "outputs": [],
   "source": [
    "#import matplotlib.pyplot as plt"
   ]
  },
  {
   "cell_type": "code",
   "execution_count": null,
   "id": "7a791cd3",
   "metadata": {},
   "outputs": [],
   "source": [
    "#import sklearn"
   ]
  },
  {
   "cell_type": "code",
   "execution_count": null,
   "id": "34a92b7d",
   "metadata": {},
   "outputs": [],
   "source": [
    "#import seaborn as sns"
   ]
  },
  {
   "cell_type": "code",
   "execution_count": null,
   "id": "d5dd09ef",
   "metadata": {},
   "outputs": [],
   "source": [
    "#import bokeh"
   ]
  },
  {
   "cell_type": "code",
   "execution_count": null,
   "id": "07d60562",
   "metadata": {},
   "outputs": [],
   "source": [
    "#import folium"
   ]
  },
  {
   "cell_type": "markdown",
   "id": "b4676a18",
   "metadata": {},
   "source": [
    "\n",
    "# Set-up Test / Quest 1:"
   ]
  },
  {
   "cell_type": "markdown",
   "id": "9df76f22",
   "metadata": {},
   "source": [
    "_Run the rest of the code cell by cell._"
   ]
  },
  {
   "cell_type": "markdown",
   "id": "b64e0ac8",
   "metadata": {},
   "source": [
    "### Use example datasets from the pysal library"
   ]
  },
  {
   "cell_type": "code",
   "execution_count": null,
   "id": "35ba8292",
   "metadata": {},
   "outputs": [],
   "source": [
    "from libpysal.examples import available\n",
    "from libpysal.examples import explain"
   ]
  },
  {
   "cell_type": "markdown",
   "id": "95cfe845",
   "metadata": {},
   "source": [
    "### Lists available datasets"
   ]
  },
  {
   "cell_type": "code",
   "execution_count": null,
   "id": "6d0d7fcf",
   "metadata": {},
   "outputs": [],
   "source": [
    "available() # this may take a while to finish loading"
   ]
  },
  {
   "cell_type": "markdown",
   "id": "0d8534a1",
   "metadata": {},
   "source": [
    "### Explain a dataset by _Name_"
   ]
  },
  {
   "cell_type": "code",
   "execution_count": null,
   "id": "00d769f0",
   "metadata": {},
   "outputs": [],
   "source": [
    "explain('Columbus') # here we are getting more information on the 'Columbus' dataset"
   ]
  },
  {
   "cell_type": "markdown",
   "id": "b9f3af9d",
   "metadata": {},
   "source": [
    "__Quiz question: The 'Columbus' dataset contains information on crimes in Columbus, Ohio for which year?__ (Please answer directly in the quiz)"
   ]
  },
  {
   "cell_type": "markdown",
   "id": "e31887ac",
   "metadata": {},
   "source": [
    "### Use the osmnx library to read OpenStreetMap data to a geodataframe _(gdf)_"
   ]
  },
  {
   "cell_type": "code",
   "execution_count": null,
   "id": "567cf931",
   "metadata": {
    "scrolled": true
   },
   "outputs": [],
   "source": [
    "region_name = 'Ohio, USA' \n",
    "region = ox.geocoder.geocode_to_gdf(region_name, which_result=2)\n",
    "region"
   ]
  },
  {
   "cell_type": "markdown",
   "id": "9c0c7029",
   "metadata": {},
   "source": [
    "__Quiz question: Scroll across the whole 'region' geodataframe. What is the value of the 'class' field?__ (Please answer directly in the quiz)"
   ]
  },
  {
   "cell_type": "code",
   "execution_count": null,
   "id": "30037709",
   "metadata": {},
   "outputs": [],
   "source": []
  }
 ],
 "metadata": {
  "kernelspec": {
   "display_name": "Python 3 (ipykernel)",
   "language": "python",
   "name": "python3"
  },
  "language_info": {
   "codemirror_mode": {
    "name": "ipython",
    "version": 3
   },
   "file_extension": ".py",
   "mimetype": "text/x-python",
   "name": "python",
   "nbconvert_exporter": "python",
   "pygments_lexer": "ipython3",
   "version": "3.10.6"
  }
 },
 "nbformat": 4,
 "nbformat_minor": 5
}
